{
 "cells": [
  {
   "cell_type": "code",
   "execution_count": null,
   "metadata": {},
   "outputs": [],
   "source": [
    "\n",
    "import torch\n",
    "import torch.nn as nn\n",
    "from torch.nn import functional as F"
   ]
  },
  {
   "cell_type": "code",
   "execution_count": null,
   "metadata": {},
   "outputs": [],
   "source": [
    "# hyperparameters\n",
    "batch_size = 16 # how many independent sequences will we process in parallel?\n",
    "block_size = 8 # what is the maximum context length for predictions?\n",
    "max_iters = 5000\n",
    "eval_interval = 500\n",
    "learning_rate = 3e-4\n",
    "device = 'cuda' if torch.cuda.is_available() else 'cpu'\n",
    "eval_iters = 200\n",
    "n_embd = 32\n",
    "n_head = 1\n",
    "n_layer = 1\n",
    "dropout = 0.1"
   ]
  },
  {
   "cell_type": "code",
   "execution_count": null,
   "metadata": {},
   "outputs": [
    {
     "data": {
      "text/plain": [
       "<torch._C.Generator at 0x7f8360249a90>"
      ]
     },
     "execution_count": 26,
     "metadata": {},
     "output_type": "execute_result"
    }
   ],
   "source": [
    "#set manual seed for future reproducibility\n",
    "torch.manual_seed(100)"
   ]
  },
  {
   "cell_type": "code",
   "execution_count": null,
   "metadata": {},
   "outputs": [
    {
     "name": "stdout",
     "output_type": "stream",
     "text": [
      "--2023-01-19 14:02:10--  https://raw.githubusercontent.com/karpathy/char-rnn/master/data/tinyshakespeare/input.txt\n",
      "Resolving raw.githubusercontent.com (raw.githubusercontent.com)... 185.199.110.133, 185.199.111.133, 185.199.108.133, ...\n",
      "Connecting to raw.githubusercontent.com (raw.githubusercontent.com)|185.199.110.133|:443... connected.\n",
      "HTTP request sent, awaiting response... 200 OK\n",
      "Length: 1115394 (1.1M) [text/plain]\n",
      "Saving to: ‘input.txt.4’\n",
      "\n",
      "input.txt.4         100%[===================>]   1.06M  --.-KB/s    in 0.05s   \n",
      "\n",
      "2023-01-19 14:02:11 (20.8 MB/s) - ‘input.txt.4’ saved [1115394/1115394]\n",
      "\n"
     ]
    }
   ],
   "source": [
    "!wget https://raw.githubusercontent.com/karpathy/char-rnn/master/data/tinyshakespeare/input.txt\n"
   ]
  },
  {
   "cell_type": "code",
   "execution_count": 52,
   "metadata": {},
   "outputs": [
    {
     "data": {
      "text/plain": [
       "'hello world'"
      ]
     },
     "execution_count": 52,
     "metadata": {},
     "output_type": "execute_result"
    }
   ],
   "source": [
    "path = \"input.txt\" \n",
    "with open(path, 'r') as f:\n",
    "    text = f.read()\n",
    "\n",
    "chars = sorted(list(set(text)))\n",
    "vocab_size = len(chars)\n",
    "\n",
    "\n",
    "# create a mapping from characters to integers\n",
    "stoi = { ch:i for i,ch in enumerate(chars) }\n",
    "itos = { i:ch for i,ch in enumerate(chars) }\n",
    "encode = lambda s: [stoi[c] for c in s] # encoder: take a string, output a list of integers\n",
    "decode = lambda l: ''.join([itos[i] for i in l]) # decoder: take a list of integers, output a string\n",
    "\n",
    "decode(encode(\"hello world\"))"
   ]
  },
  {
   "cell_type": "code",
   "execution_count": null,
   "metadata": {},
   "outputs": [],
   "source": [
    "# create a dataset that reads input.txt and encodes it as a sequence of integers. each batch returns sequnce of size block_size\n",
    "class TextDataset(torch.utils.data.Dataset):\n",
    "    def __init__(self, path, block_size, transform):\n",
    "        self.transform = transform\n",
    "        with open(path, 'r') as f:\n",
    "            text = f.read()\n",
    "        \n",
    "        self.text = text\n",
    "        self.block_size = block_size # here are all the unique characters that occur in this text\n",
    "        self.chars = sorted(list(set(text)))\n",
    "      \n",
    "    def __len__(self):\n",
    "        return len(self.text) - self.block_size - 1\n",
    "\n",
    "    def __getitem__(self, idx):\n",
    "        return self.transform(self.text[idx:idx+self.block_size]) , self.transform(self.text[idx+1:idx+self.block_size+1])\n",
    "\n",
    "\n",
    "# define transform function that takes string list of characters and returns a tensor of integers\n",
    "def transform(x):\n",
    "    # convert list of characters to list of integers\n",
    "    x = encode(x)\n",
    "    return torch.tensor(x, dtype=torch.long)\n",
    "\n",
    "dataset = TextDataset('input.txt', block_size , transform=transform)\n",
    "dataloader = torch.utils.data.DataLoader(dataset, batch_size=batch_size, shuffle=True, num_workers=4, pin_memory=True)\n",
    "\n",
    "print(next(iter(dataloader)))\n",
    "\n"
   ]
  },
  {
   "cell_type": "code",
   "execution_count": null,
   "metadata": {},
   "outputs": [],
   "source": [
    "def estimate_loss(model , dataloader):\n",
    "    model.eval()\n",
    "    total_loss = 0\n",
    "    for x,y in dataloader:\n",
    "        x = x.to(device)\n",
    "        y = y.to(device)\n",
    "        with torch.no_grad():\n",
    "            logits = model(x)\n",
    "            loss = F.cross_entropy(logits.transpose(1,2), y)\n",
    "            total_loss += loss.item()\n",
    "    return total_loss / len(dataloader)\n"
   ]
  },
  {
   "cell_type": "code",
   "execution_count": 60,
   "metadata": {},
   "outputs": [],
   "source": [
    "class BigramLanguageModel(nn.Module):\n",
    "    def __init__(self):\n",
    "        super().__init__()\n",
    "        self.emb = nn.Embedding(vocab_size, vocab_size)\n",
    "    \n",
    "    def forward(self, x):\n",
    "        return self.emb(x)\n",
    "    \n",
    "    def generate(self , idx, max_new_tokens):\n",
    "        for _ in range(max_new_tokens):\n",
    "            # crop idx to the last block_size tokens\n",
    "            idx_cond = idx[:, -block_size:]\n",
    "            # get the predictions\n",
    "            logits = self(idx_cond)\n",
    "            # focus only on the last time step\n",
    "            logits = logits[:, -1, :] # becomes (B, C)\n",
    "            # apply softmax to get probabilities\n",
    "            probs = F.softmax(logits, dim=-1) # (B, C)\n",
    "            # sample from the distribution\n",
    "            idx_next = torch.multinomial(probs, num_samples=1) # (B, 1)\n",
    "            # append sampled index to the running sequence\n",
    "            idx = torch.cat((idx, idx_next), dim=1) # (B, T+1)\n",
    "        return idx"
   ]
  },
  {
   "cell_type": "code",
   "execution_count": 61,
   "metadata": {},
   "outputs": [
    {
     "name": "stdout",
     "output_type": "stream",
     "text": [
      "4225\n"
     ]
    }
   ],
   "source": [
    "model = BigramLanguageModel().to(device)\n",
    "#print number of parameters\n",
    "print(sum(p.numel() for p in model.parameters() if p.requires_grad))"
   ]
  },
  {
   "cell_type": "code",
   "execution_count": 72,
   "metadata": {},
   "outputs": [
    {
     "name": "stdout",
     "output_type": "stream",
     "text": [
      "my name is shubham\n",
      "my name is shubham!Z,s.ssYjL3yv JC-v qG:JVYF.tS.x:lkFzt-tjRqYg!de BITG MEHQ$SpLiWDncek&!AfB!RgszirhLTnZNne-IBMdELkrJjlS&DxgN-Cntn-cVq3g3$xp:\n",
      "fLJx$ qUFL-ztN&x.3O NDFUdkfJoq,lEHoaXA$Gj3BFKOp,VU&$Fzf!X-ISnQSV\n",
      "Gxg;eq!;Yc$l\n"
     ]
    }
   ],
   "source": [
    "s = \"my name is shubham\"\n",
    "s = transform(s).to(device)\n",
    "s = s.unsqueeze(0)\n",
    "\n",
    "context = torch.zeros((1,1) , dtype=torch.long).to(device)\n",
    "print(decode(s.tolist()[0]))\n",
    "print(decode(model.generate(s, max_new_tokens=200)[0].tolist()))\n"
   ]
  },
  {
   "cell_type": "code",
   "execution_count": 74,
   "metadata": {},
   "outputs": [],
   "source": [
    "\n",
    "optimizer = torch.optim.AdamW(model.parameters(), lr=learning_rate)\n",
    "\n",
    "epochs = max_iters // len(dataloader) + 1\n",
    "\n",
    "for epoch in range(epochs):\n",
    "    model.train()\n",
    "    intervals = 0\n",
    "    for i, (x,y) in enumerate(dataloader):\n",
    "        intervals += 1\n",
    "        x = x.to(device)\n",
    "        y = y.to(device)\n",
    "        optimizer.zero_grad()\n",
    "        logits = model(x)\n",
    "        loss = F.cross_entropy(logits.transpose(1,2), y)\n",
    "        loss.backward()\n",
    "        optimizer.step()\n",
    "        \n",
    "        #compuate loss after every eval_interval\n",
    "        if intervals % eval_interval == 0:\n",
    "            print(f\"epoch: {epoch} , iter: {i} | train loss: {estimate_loss(model , dataloader)}\")\n",
    "            "
   ]
  },
  {
   "cell_type": "code",
   "execution_count": null,
   "metadata": {},
   "outputs": [],
   "source": []
  }
 ],
 "metadata": {
  "kernelspec": {
   "display_name": "Python 3.7.11 ('ml')",
   "language": "python",
   "name": "python3"
  },
  "language_info": {
   "codemirror_mode": {
    "name": "ipython",
    "version": 3
   },
   "file_extension": ".py",
   "mimetype": "text/x-python",
   "name": "python",
   "nbconvert_exporter": "python",
   "pygments_lexer": "ipython3",
   "version": "3.7.11"
  },
  "orig_nbformat": 4,
  "vscode": {
   "interpreter": {
    "hash": "066a261069eab0e2115ba291e32929283f9a4af7ad7a182ff6f1084639702089"
   }
  }
 },
 "nbformat": 4,
 "nbformat_minor": 2
}
